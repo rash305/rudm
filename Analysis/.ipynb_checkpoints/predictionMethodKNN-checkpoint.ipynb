{
 "cells": [
  {
   "cell_type": "code",
   "execution_count": 2,
   "metadata": {},
   "outputs": [],
   "source": [
    "import pandas as pd\n",
    "\n",
    "train_data = pd.read_csv('../Datasets/oneHotEncoded_dataset.csv')"
   ]
  },
  {
   "cell_type": "markdown",
   "metadata": {},
   "source": [
    "# KNN\n"
   ]
  },
  {
   "cell_type": "markdown",
   "metadata": {},
   "source": [
    "First the best $k$ needs to be found. This is done by splitting the train dataset in 10 parts. Every part is then splitted into a trainingset and testset. The trainingset will be neglected and the testset will be used to calculate the best $k$. For every part of the data, a prediction will be made on the testset with k going from 1 upto the length of the testset. This will overfit, however, in this case that's whats needed, because we need to find the best $k$, to make the best prediction with KNN.\n",
    "When all testsets are past, the best k will be stored. And everything will start over again, but now with the second part of the train data etc."
   ]
  },
  {
   "cell_type": "code",
   "execution_count": null,
   "metadata": {},
   "outputs": [],
   "source": [
    "## Don't run this code, it takes 24 hours of your life ;)\n",
    "import math\n",
    "from sklearn.model_selection import KFold\n",
    "from sklearn.neighbors import KNeighborsClassifier\n",
    "from sklearn.metrics import precision_score, recall_score, accuracy_score\n",
    "\n",
    "kf = KFold(n_splits = 10)\n",
    "\n",
    "CalculatedBestKs = []\n",
    "i = 0\n",
    "for train_index, test_index in kf.split(train_data):\n",
    "    X_train, X_test, y_train, y_test = train_data.iloc[train_index,:], train_data.iloc[test_index,:], y.iloc[train_index], y.iloc[test_index] \n",
    "    \n",
    "    ks = []\n",
    "    \n",
    "    for index in range(len(X_test)):\n",
    "        print(i)       \n",
    "        knn = KNeighborsClassifier(n_neighbors=index+1, metric='euclidean')\n",
    "        knn.fit(X_test, y_test)\n",
    "\n",
    "        prediction = knn.predict(X_test)        \n",
    "        \n",
    "        accuracy = accuracy_score(y_test, prediction)\n",
    "        precision = precision_score(y_test, prediction)\n",
    "        recall = recall_score(y_test, prediction)\n",
    "        ks.append(accuracy)\n",
    "        i += 1\n",
    "    maxK = max(ks)\n",
    "    numberOfK = ks.index(maxK)\n",
    "    CalculatedBestKs.append(numberOfK)\n",
    "    \n",
    "print(CalculatedBestKs)\n",
    "mean_k = sum(CalculatedBestKs)/len(CalculatedBestKs)\n",
    "best_k = math.ceil(mean_k)"
   ]
  },
  {
   "cell_type": "markdown",
   "metadata": {},
   "source": [
    "The best_k will be used as the $k$ in the classification algorithm"
   ]
  },
  {
   "cell_type": "code",
   "execution_count": null,
   "metadata": {},
   "outputs": [],
   "source": [
    "y = train_data['OutcomeType']\n",
    "n_splits = 10\n",
    "kf = KFold(n_splits = n_splits)\n",
    "k = best_k\n",
    "\n",
    "accuracies = []\n",
    "precisions = []\n",
    "recalls = []\n",
    "\n",
    "for train_index, test_index in kf.split(train_data):\n",
    "    X_train, X_test, y_train, y_test = train_data.iloc[train_index,:], train_data.iloc[test_index,:], y.iloc[train_index], y.iloc[test_index]         \n",
    "    knn = KNeighborsClassifier(n_neighbors=k, metric='cityblock')\n",
    "    knn.fit(X_train, y_train)\n",
    "\n",
    "    prediction = knn.predict(X_test)\n",
    "    \n",
    "    accuracy = accuracy_score(y_test, prediction)\n",
    "    precision = precision_score(y_test, prediction)\n",
    "    recall = recall_score(y_test, prediction)\n",
    "    \n",
    "    accuracies.append(accuracy)\n",
    "    precisions.append(presicion)\n",
    "    recalls.append(recall)\n",
    "\n",
    "mean_accuracy = sum(accuracies)/len(accuracies)\n",
    "mean_precision = sum(precisions)/len(precisions)\n",
    "mean_recall = sum(recalls)/len(recalls)"
   ]
  }
 ],
 "metadata": {
  "kernelspec": {
   "display_name": "Python 3",
   "language": "python",
   "name": "python3"
  },
  "language_info": {
   "codemirror_mode": {
    "name": "ipython",
    "version": 3
   },
   "file_extension": ".py",
   "mimetype": "text/x-python",
   "name": "python",
   "nbconvert_exporter": "python",
   "pygments_lexer": "ipython3",
   "version": "3.7.3"
  },
  "varInspector": {
   "cols": {
    "lenName": 16,
    "lenType": 16,
    "lenVar": 40
   },
   "kernels_config": {
    "python": {
     "delete_cmd_postfix": "",
     "delete_cmd_prefix": "del ",
     "library": "var_list.py",
     "varRefreshCmd": "print(var_dic_list())"
    },
    "r": {
     "delete_cmd_postfix": ") ",
     "delete_cmd_prefix": "rm(",
     "library": "var_list.r",
     "varRefreshCmd": "cat(var_dic_list()) "
    }
   },
   "types_to_exclude": [
    "module",
    "function",
    "builtin_function_or_method",
    "instance",
    "_Feature"
   ],
   "window_display": false
  }
 },
 "nbformat": 4,
 "nbformat_minor": 2
}
