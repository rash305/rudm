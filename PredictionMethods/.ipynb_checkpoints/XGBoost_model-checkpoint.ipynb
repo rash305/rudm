{
 "cells": [
  {
   "cell_type": "markdown",
   "metadata": {},
   "source": [
    "# XGBoost model for classifying the data"
   ]
  },
  {
   "cell_type": "markdown",
   "metadata": {},
   "source": [
    "The following sources have been used:\n",
    "\n",
    "Code used for plotting confusion matrix: <br>\n",
    "- https://scikit-learn.org/stable/modules/generated/sklearn.metrics.plot_confusion_matrix.html\n",
    "\n"
   ]
  },
  {
   "cell_type": "code",
   "execution_count": 1,
   "metadata": {},
   "outputs": [],
   "source": [
    "# Reading the data and prepare it for the model\n",
    "\n",
    "import pandas as pd\n",
    "\n",
    "train_data = pd.read_csv('../Datasets/oneHotEncoded_dataset.csv')\n",
    "test_data = pd.read_csv('../Datasets/test_oneHotEncoded_dataset.csv')\n",
    "\n",
    "# Connect the classlabels as strings with the corresponding class labels as numbers for the train dataset\n",
    "labels_train = {}\n",
    "number_labels_train = np.unique(train_data.OutcomeType)\n",
    "string_labels_train = np.unique(train_data.OutcomeTypeString)\n",
    "\n",
    "for i in number_labels_train:\n",
    "    labels_train[i] = string_labels_train[i]\n",
    "\n",
    "labels_test = {}\n",
    "number_labels_test = np.unique(test_data.OutcomeType)\n",
    "string_labels_test = np.unique(test_data.OutcomeTypeString)\n",
    "\n",
    "# Connect the classlabels as strings with the corresponding class labels as numbers for the test dataset\n",
    "for i in number_labels_test:\n",
    "    labels_test[i] = string_labels_test[i]\n",
    "\n",
    "y_train = train_data.OutcomeType\n",
    "\n",
    "train_data = train_data.drop(['OutcomeType', 'OutcomeTypeString'], axis = 1)\n",
    "train_data['AgeuponOutcome'].fillna(-1, inplace=True)\n",
    "X_train = train_data\n",
    "\n",
    "y_test = test_data.OutcomeType\n",
    "test_data = test_data.drop(['OutcomeType', 'OutcomeTypeString'], axis = 1)\n",
    "X_test = test_data"
   ]
  },
  {
   "cell_type": "code",
   "execution_count": 2,
   "metadata": {},
   "outputs": [],
   "source": [
    "# Oversampling the data\n",
    "\n",
    "from imblearn.over_sampling import BorderlineSMOTE\n",
    "\n",
    "bsm = BorderlineSMOTE(random_state = 42)\n",
    "X_train, y_train = bsm.fit_sample(X_train, y_train)"
   ]
  },
  {
   "cell_type": "code",
   "execution_count": 3,
   "metadata": {},
   "outputs": [],
   "source": [
    "# Training the model\n",
    "from xgboost.sklearn import XGBClassifier\n",
    "\n",
    "# Giving weights to the classes to deal with class imbalance\n",
    "# percentages = []\n",
    "# for classes in number_labels_train:\n",
    "#     percentage = len(y_train[y_train == classes]) / len(y_train) * 100\n",
    "#     percentages.append(percentage)\n",
    "# min_per = min(percentages)\n",
    "\n",
    "# weights = []\n",
    "# for idx in range(len(percentages)):\n",
    "#     if percentages[idx] == min_per:\n",
    "#         weights.append(1)\n",
    "#     else:\n",
    "#         weights.append(1/percentages[idx])\n",
    "\n",
    "model = XGBClassifier(\n",
    "    learning_rate = 0.03,\n",
    "    n_estimators = 500,\n",
    "    max_depth = 6,\n",
    "    gamma = 0.3,\n",
    "    subsample = 0.8,\n",
    "    colsample_bytree = 0.8,\n",
    "    objective = 'multi:softprob',\n",
    "    nthread = 4,\n",
    "    seed = 43)\n",
    "\n",
    "classifier = model.fit(X_train, y_train)"
   ]
  },
  {
   "cell_type": "code",
   "execution_count": 4,
   "metadata": {},
   "outputs": [
    {
     "name": "stdout",
     "output_type": "stream",
     "text": [
      "              precision    recall  f1-score   support\n",
      "\n",
      "           0       1.00      0.48      0.65     11442\n",
      "           1       0.00      0.00      0.00         0\n",
      "           2       0.00      0.00      0.00         0\n",
      "           3       0.00      0.00      0.00         0\n",
      "           4       0.00      0.00      0.00         0\n",
      "\n",
      "    accuracy                           0.48     11442\n",
      "   macro avg       0.20      0.10      0.13     11442\n",
      "weighted avg       1.00      0.48      0.65     11442\n",
      "\n",
      "The accuracy is 0.4802\n"
     ]
    },
    {
     "name": "stderr",
     "output_type": "stream",
     "text": [
      "C:\\Users\\evert\\Anaconda3\\lib\\site-packages\\sklearn\\metrics\\_classification.py:1272: UndefinedMetricWarning: Recall and F-score are ill-defined and being set to 0.0 in labels with no true samples. Use `zero_division` parameter to control this behavior.\n",
      "  _warn_prf(average, modifier, msg_start, len(result))\n"
     ]
    }
   ],
   "source": [
    "# Predict the outcomes of the animals in the testset and print the quality scores\n",
    "from sklearn.metrics import classification_report\n",
    "from sklearn.metrics import accuracy_score\n",
    "\n",
    "predictions = model.predict(X_test)\n",
    "targetnames = [key for key in labels_train.keys()]\n",
    "\n",
    "print(classification_report(y_test,predictions,targetnames))\n",
    "print('The accuracy is {:.4f}'.format(accuracy_score(y_test,predictions)))"
   ]
  },
  {
   "cell_type": "code",
   "execution_count": 9,
   "metadata": {},
   "outputs": [
    {
     "name": "stdout",
     "output_type": "stream",
     "text": [
      "Confusion matrix XGB model on testdataset\n"
     ]
    },
    {
     "data": {
      "image/png": "[encoded data removed]",
      "text/plain": [
       "<Figure size 432x288 with 2 Axes>"
      ]
     },
     "metadata": {
      "needs_background": "light"
     },
     "output_type": "display_data"
    }
   ],
   "source": [
    "import matplotlib.pyplot as plt\n",
    "from sklearn.metrics import plot_confusion_matrix\n",
    "\n",
    "class_names = ['Adoption', 'Died', 'Euthanasia', 'Return_to_owner','Transfer']\n",
    "title = \"Confusion matrix XGB model on testdataset\"\n",
    "disp = plot_confusion_matrix(classifier, X_test, y_test,\n",
    "                                 display_labels=class_names,\n",
    "                                 cmap=plt.cm.Blues,\n",
    "                                 xticks_rotation = 'vertical',\n",
    "                                 values_format = \".0f\",\n",
    "                                 normalize=None)\n",
    "disp.ax_.set_title(title)\n",
    "print(title)\n",
    "plt.show()"
   ]
  }
 ],
 "metadata": {
  "kernelspec": {
   "display_name": "Python 3",
   "language": "python",
   "name": "python3"
  },
  "language_info": {
   "codemirror_mode": {
    "name": "ipython",
    "version": 3
   },
   "file_extension": ".py",
   "mimetype": "text/x-python",
   "name": "python",
   "nbconvert_exporter": "python",
   "pygments_lexer": "ipython3",
   "version": "3.7.3"
  },
  "varInspector": {
   "cols": {
    "lenName": 16,
    "lenType": 16,
    "lenVar": 40
   },
   "kernels_config": {
    "python": {
     "delete_cmd_postfix": "",
     "delete_cmd_prefix": "del ",
     "library": "var_list.py",
     "varRefreshCmd": "print(var_dic_list())"
    },
    "r": {
     "delete_cmd_postfix": ") ",
     "delete_cmd_prefix": "rm(",
     "library": "var_list.r",
     "varRefreshCmd": "cat(var_dic_list()) "
    }
   },
   "position": {
    "height": "699.667px",
    "left": "1916px",
    "right": "20px",
    "top": "126px",
    "width": "580.667px"
   },
   "types_to_exclude": [
    "module",
    "function",
    "builtin_function_or_method",
    "instance",
    "_Feature"
   ],
   "window_display": true
  }
 },
 "nbformat": 4,
 "nbformat_minor": 2
}
