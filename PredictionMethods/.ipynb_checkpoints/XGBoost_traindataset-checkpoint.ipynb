{
 "cells": [
  {
   "cell_type": "markdown",
   "metadata": {},
   "source": [
    "### The following sources have been used:\n",
    "\n",
    "Getting an idea how XGB can be applied: <br>\n",
    "- https://www.kaggle.com/rohansadale/xgbclassifier-and-randomforest-in-python\n",
    "\n",
    "Early stopping: <br>\n",
    "- https://machinelearningmastery.com/avoid-overfitting-by-early-stopping-with-xgboost-in-python/\n",
    "\n",
    "Tuning parameters: <br>\n",
    "- https://towardsdatascience.com/fine-tuning-xgboost-in-python-like-a-boss-b4543ed8b1e\n",
    "- https://towardsdatascience.com/doing-xgboost-hyper-parameter-tuning-the-smart-way-part-1-of-2-f6d255a45dde\n",
    "\n",
    "Code used for plotting confusion matrix: <br>\n",
    "- https://scikit-learn.org/stable/modules/generated/sklearn.metrics.plot_confusion_matrix.html"
   ]
  },
  {
   "cell_type": "markdown",
   "metadata": {},
   "source": [
    "# XGBoost"
   ]
  },
  {
   "cell_type": "markdown",
   "metadata": {},
   "source": [
    "Algorithm to train and build the XGBboost model to determine how well this model performs on the train dataset"
   ]
  },
  {
   "cell_type": "code",
   "execution_count": 1,
   "metadata": {},
   "outputs": [],
   "source": [
    "import pandas as pd\n",
    "\n",
    "train_data = pd.read_csv('../Datasets/oneHotEncoded_dataset.csv')\n",
    "train_data['AgeuponOutcome'].fillna(-1, inplace=True)\n",
    "\n",
    "y = train_data.OutcomeType\n",
    "train_data = train_data.drop(['OutcomeType', 'OutcomeTypeString'], axis = 1)\n",
    "X = train_data"
   ]
  },
  {
   "cell_type": "code",
   "execution_count": 2,
   "metadata": {},
   "outputs": [],
   "source": [
    "# Oversampling the data using BorderlineSMOTE\n",
    "\n",
    "from imblearn.over_sampling import BorderlineSMOTE\n",
    "\n",
    "bsm = BorderlineSMOTE(random_state = 42)\n",
    "X, y = bsm.fit_sample(X, y)"
   ]
  },
  {
   "cell_type": "code",
   "execution_count": 3,
   "metadata": {},
   "outputs": [],
   "source": [
    "# Used to determine the amount of iterations the model should do, based on the learning curve. When the learning curve\n",
    "# stabalizes, the learning should stop, because continue learning doesn't increase the accuracy but takes a lot of time\n",
    "\n",
    "# import pandas as pd\n",
    "# import numpy as np\n",
    "# import xgboost as xgb\n",
    "# from xgboost.sklearn import XGBClassifier\n",
    "# from sklearn.model_selection import train_test_split\n",
    "# from sklearn.metrics import precision_score, recall_score, accuracy_score\n",
    "# from matplotlib import pyplot\n",
    "\n",
    "# X_train, X_test, y_train, y_test = train_test_split(X, y, test_size=0.33, random_state=42)\n",
    "\n",
    "# model = XGBClassifier()\n",
    "# eval_set = [(X_train, y_train), (X_test, y_test)]\n",
    "# eval_metric = [\"merror\", \"mlogloss\"]\n",
    "\n",
    "# model.fit(X_train, y_train, eval_metric=eval_metric, eval_set=eval_set, verbose = False)\n",
    "# predictions = model.predict(X_test)\n",
    "\n",
    "# recall = recall_score(y_test, predictions, average = 'weighted')\n",
    "# precision = precision_score(y_test, predictions, average = 'weighted')\n",
    "\n",
    "# results = model.evals_result()\n",
    "# epochs = len(results['validation_0']['merror'])\n",
    "# x_axis = range(0, epochs)\n",
    "# fig, ax = pyplot.subplots()\n",
    "# ax.plot(x_axis, results['validation_0']['mlogloss'], label='Train')\n",
    "# ax.plot(x_axis, results['validation_1']['mlogloss'], label='Test')\n",
    "# ax.legend()\n",
    "# pyplot.ylabel('mLog Loss')\n",
    "# pyplot.title('XGBoost Log Loss')\n",
    "# pyplot.show()\n",
    "\n",
    "# fig, ax = pyplot.subplots()\n",
    "# ax.plot(x_axis, results['validation_0']['merror'], label='Train')\n",
    "# ax.plot(x_axis, results['validation_1']['merror'], label='Test')\n",
    "# ax.legend()\n",
    "# pyplot.ylabel('Classification Error')\n",
    "# pyplot.title('XGBoost Classification Error')\n",
    "# pyplot.show()\n",
    "\n",
    "# print(\"Recall: %.2f%%\" % (recall))\n",
    "# print(\"Precision: %.2f%%\" % (precision))"
   ]
  },
  {
   "cell_type": "code",
   "execution_count": null,
   "metadata": {},
   "outputs": [],
   "source": [
    "# Needs to be used to tune the parameters. However, because of the size of the dateset, this takes ages.\n",
    "# Therefore, the parameters are tunes manually\n",
    "\n",
    "from sklearn.model_selection import GridSearchCV\n",
    "import pandas as pd\n",
    "import numpy as np\n",
    "import xgboost as xgb\n",
    "from xgboost.sklearn import XGBClassifier\n",
    "from sklearn import metrics\n",
    "from sklearn.model_selection import GridSearchCV\n",
    "from sklearn.model_selection import train_test_split\n",
    "from sklearn.metrics import precision_score, recall_score, accuracy_score\n",
    "from matplotlib import pyplot\n",
    "\n",
    "X_train, X_test, y_train, y_test = train_test_split(X, y, test_size=0.33, random_state=42)\n",
    "clf = xgb.XGBClassifier()\n",
    "parameters = {\n",
    "     \"eta\"    : [0.05, 0.10, 0.15, 0.20, 0.25, 0.30 ] ,\n",
    "     \"max_depth\"        : [ 3, 4, 5, 6, 8, 10, 12, 15],\n",
    "     \"min_child_weight\" : [ 1, 3, 5, 7 ],\n",
    "     \"gamma\"            : [ 0.0, 0.1, 0.2 , 0.3, 0.4 ],\n",
    "     \"colsample_bytree\" : [ 0.3, 0.4, 0.5 , 0.7 ]\n",
    "     }\n",
    "\n",
    "grid = GridSearchCV(clf,\n",
    "                    parameters, n_jobs=4,\n",
    "                    scoring=\"neg_log_loss\",\n",
    "                    cv=3)\n",
    "\n",
    "grid.fit(X, y)\n",
    "model.dump_model('dump.raw.txt')"
   ]
  },
  {
   "cell_type": "code",
   "execution_count": 5,
   "metadata": {},
   "outputs": [],
   "source": [
    "# Fitting the model\n",
    "\n",
    "from xgboost.sklearn import XGBClassifier\n",
    "from sklearn.model_selection import train_test_split\n",
    "from sklearn.metrics import precision_score, recall_score, accuracy_score\n",
    "X_train, X_test, y_train, y_test = train_test_split(X, y, test_size=0.33, random_state=42)\n",
    "\n",
    "model = XGBClassifier(\n",
    "    learning_rate = 0.03,\n",
    "    n_estimators = 500,\n",
    "    max_depth = 6,\n",
    "    gamma = 0.3,\n",
    "    subsample = 0.8,\n",
    "    colsample_bytree = 0.8,\n",
    "    objective = 'multi:softprob',\n",
    "    nthread = 4,\n",
    "    seed = 43)\n",
    "\n",
    "classifier = model.fit(X_train, y_train)\n",
    "predictions = model.predict(X_test)\n",
    "\n",
    "recall = recall_score(y_test, predictions, average = 'weighted')\n",
    "precision = precision_score(y_test, predictions, average = 'weighted')"
   ]
  },
  {
   "cell_type": "code",
   "execution_count": 6,
   "metadata": {},
   "outputs": [
    {
     "name": "stdout",
     "output_type": "stream",
     "text": [
      "Class zero has presicion of 1.0, recall of 0.7787002576581735 and accuracy of 0.7787002576581735\n",
      "Class one has presicion of 1.0, recall of 0.9830931263858093 and accuracy of 0.9830931263858093\n",
      "Class two has presicion of 1.0, recall of 0.7155671296296297 and accuracy of 0.7155671296296297\n",
      "Class three has presicion of 1.0, recall of 0.7562793265249793 and accuracy of 0.7562793265249793\n",
      "Class four has presicion of 1.0, recall of 0.5475062691557537 and accuracy of 0.5475062691557537\n",
      "The overall precision is 0.7675484698891228 and the overall recall is 0.7566548483313636 and accuracy 0.7566548483313636\n"
     ]
    },
    {
     "name": "stderr",
     "output_type": "stream",
     "text": [
      "C:\\Users\\evert\\Anaconda3\\lib\\site-packages\\sklearn\\metrics\\_classification.py:1272: UndefinedMetricWarning: Recall is ill-defined and being set to 0.0 in labels with no true samples. Use `zero_division` parameter to control this behavior.\n",
      "  _warn_prf(average, modifier, msg_start, len(result))\n"
     ]
    }
   ],
   "source": [
    "# Calculations for the precision, recall and accuracy\n",
    "\n",
    "y_class0 = y_test[y_test == 0]\n",
    "y_class1 = y_test[y_test == 1]\n",
    "y_class2 = y_test[y_test == 2]\n",
    "y_class3 = y_test[y_test == 3]\n",
    "y_class4 = y_test[y_test == 4]\n",
    "\n",
    "prediction_class0 = predictions[y_test == 0]\n",
    "prediction_class1 = predictions[y_test == 1]\n",
    "prediction_class2 = predictions[y_test == 2]\n",
    "prediction_class3 = predictions[y_test == 3]\n",
    "prediction_class4 = predictions[y_test == 4]\n",
    "\n",
    "# precision calculations\n",
    "precision_class0 = precision_score(y_class0,prediction_class0, average = 'weighted')\n",
    "precision_class1 = precision_score(y_class1,prediction_class1, average = 'weighted')\n",
    "precision_class2 = precision_score(y_class2,prediction_class2, average = 'weighted')\n",
    "precision_class3 = precision_score(y_class3,prediction_class3, average = 'weighted')\n",
    "precision_class4 = precision_score(y_class4,prediction_class4, average = 'weighted')\n",
    "\n",
    "# recall calculations    \n",
    "recall_class0 = recall_score(y_class0,prediction_class0, average = 'weighted')\n",
    "recall_class1 = recall_score(y_class1,prediction_class1, average = 'weighted')\n",
    "recall_class2 = recall_score(y_class2,prediction_class2, average = 'weighted')\n",
    "recall_class3 = recall_score(y_class3,prediction_class3, average = 'weighted')\n",
    "recall_class4 = recall_score(y_class4,prediction_class4, average = 'weighted')\n",
    "\n",
    "\n",
    "# accuracy calculations\n",
    "accuracy_class0 = accuracy_score(y_class0,prediction_class0)\n",
    "accuracy_class1 = accuracy_score(y_class1,prediction_class1)\n",
    "accuracy_class2 = accuracy_score(y_class2,prediction_class2)\n",
    "accuracy_class3 = accuracy_score(y_class3,prediction_class3)\n",
    "accuracy_class4 = accuracy_score(y_class4,prediction_class4)\n",
    "\n",
    "accuracy = accuracy_score(y_test, predictions)\n",
    "print('Class zero has presicion of {0}, recall of {1} and accuracy of {2}'.format(precision_class0,recall_class0,accuracy_class0))\n",
    "print('Class one has presicion of {0}, recall of {1} and accuracy of {2}'.format(precision_class1,recall_class1,accuracy_class1))\n",
    "print('Class two has presicion of {0}, recall of {1} and accuracy of {2}'.format(precision_class2,recall_class2,accuracy_class2))\n",
    "print('Class three has presicion of {0}, recall of {1} and accuracy of {2}'.format(precision_class3,recall_class3,accuracy_class3))\n",
    "print('Class four has presicion of {0}, recall of {1} and accuracy of {2}'.format(precision_class4,recall_class4,accuracy_class4))\n",
    "print('The overall precision is {0} and the overall recall is {1} and accuracy {2}'.format(precision,recall, accuracy))"
   ]
  },
  {
   "cell_type": "code",
   "execution_count": 24,
   "metadata": {},
   "outputs": [
    {
     "name": "stdout",
     "output_type": "stream",
     "text": [
      "Confusion matrix XGB model on traindataset\n"
     ]
    },
    {
     "data": {
      "image/png": "[encoded data removed]",
      "text/plain": [
       "<Figure size 432x288 with 2 Axes>"
      ]
     },
     "metadata": {
      "needs_background": "light"
     },
     "output_type": "display_data"
    }
   ],
   "source": [
    "import matplotlib.pyplot as plt\n",
    "from sklearn.metrics import plot_confusion_matrix\n",
    "\n",
    "class_names = ['Adoption', 'Died', 'Euthanasia', 'Return_to_owner','Transfer']\n",
    "title = \"Confusion matrix XGB model on traindataset\"\n",
    "disp = plot_confusion_matrix(classifier, X_test, y_test,\n",
    "                                 display_labels=class_names,\n",
    "                                 cmap=plt.cm.Blues,\n",
    "                                 xticks_rotation = 'vertical',\n",
    "                                 values_format = \".0f\",\n",
    "                                 normalize=None)\n",
    "disp.ax_.set_title(title)\n",
    "print(title)\n",
    "plt.show()"
   ]
  }
 ],
 "metadata": {
  "kernelspec": {
   "display_name": "Python 3",
   "language": "python",
   "name": "python3"
  },
  "language_info": {
   "codemirror_mode": {
    "name": "ipython",
    "version": 3
   },
   "file_extension": ".py",
   "mimetype": "text/x-python",
   "name": "python",
   "nbconvert_exporter": "python",
   "pygments_lexer": "ipython3",
   "version": "3.7.3"
  },
  "varInspector": {
   "cols": {
    "lenName": 16,
    "lenType": 16,
    "lenVar": 40
   },
   "kernels_config": {
    "python": {
     "delete_cmd_postfix": "",
     "delete_cmd_prefix": "del ",
     "library": "var_list.py",
     "varRefreshCmd": "print(var_dic_list())"
    },
    "r": {
     "delete_cmd_postfix": ") ",
     "delete_cmd_prefix": "rm(",
     "library": "var_list.r",
     "varRefreshCmd": "cat(var_dic_list()) "
    }
   },
   "oldHeight": 582.3126659999999,
   "position": {
    "height": "40px",
    "left": "1509px",
    "right": "20px",
    "top": "134px",
    "width": "335px"
   },
   "types_to_exclude": [
    "module",
    "function",
    "builtin_function_or_method",
    "instance",
    "_Feature"
   ],
   "varInspector_section_display": "none",
   "window_display": true
  }
 },
 "nbformat": 4,
 "nbformat_minor": 2
}
