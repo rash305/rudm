{
 "cells": [
  {
   "cell_type": "markdown",
   "metadata": {},
   "source": [
    "# XGBoost model for classifying the data"
   ]
  },
  {
   "cell_type": "code",
   "execution_count": 88,
   "metadata": {},
   "outputs": [],
   "source": [
    "# Reading the data and prepare it for the model\n",
    "\n",
    "import pandas as pd\n",
    "\n",
    "train_data = pd.read_csv('../Datasets/oneHotEncoded_dataset.csv')\n",
    "test_data = pd.read_csv('../Datasets/test_oneHotEncoded_dataset.csv')\n",
    "\n",
    "# Connect the classlabels as strings with the corresponding class labels as numbers for the train dataset\n",
    "labels_train = {}\n",
    "number_labels_train = np.unique(train_data.OutcomeType)\n",
    "string_labels_train = np.unique(train_data.OutcomeTypeString)\n",
    "\n",
    "for i in number_labels_train:\n",
    "    labels_train[i] = string_labels_train[i]\n",
    "\n",
    "labels_test = {}\n",
    "number_labels_test = np.unique(test_data.OutcomeType)\n",
    "string_labels_test = np.unique(test_data.OutcomeTypeString)\n",
    "\n",
    "# Connect the classlabels as strings with the corresponding class labels as numbers for the test dataset\n",
    "for i in number_labels_test:\n",
    "    labels_test[i] = string_labels_test[i]\n",
    "\n",
    "y_train = train_data.OutcomeType\n",
    "train_data = train_data.drop(['OutcomeType', 'OutcomeTypeString'], axis = 1)\n",
    "train_data['AgeuponOutcome'].fillna(-1, inplace=True)\n",
    "X_train = train_data\n",
    "\n",
    "y_test = test_data.OutcomeType\n",
    "test_data = test_data.drop(['OutcomeType', 'OutcomeTypeString'], axis = 1)\n",
    "X_test = test_data"
   ]
  },
  {
   "cell_type": "code",
   "execution_count": 92,
   "metadata": {},
   "outputs": [
    {
     "data": {
      "text/plain": [
       "XGBClassifier(base_score=0.5, booster='gbtree', colsample_bylevel=1,\n",
       "              colsample_bynode=1, colsample_bytree=0.8, gamma=0.3,\n",
       "              learning_rate=0.03, max_delta_step=0, max_depth=6,\n",
       "              min_child_weight=1, missing=None, n_estimators=500, n_jobs=1,\n",
       "              nthread=4, objective='multi:softprob', random_state=0,\n",
       "              reg_alpha=0, reg_lambda=1, scale_pos_weight=1, seed=43,\n",
       "              silent=None, subsample=0.8, verbosity=1)"
      ]
     },
     "execution_count": 92,
     "metadata": {},
     "output_type": "execute_result"
    }
   ],
   "source": [
    "# Training the model\n",
    "from xgboost.sklearn import XGBClassifier\n",
    "\n",
    "model = XGBClassifier(\n",
    "    learning_rate = 0.03,\n",
    "    n_estimators = 500,\n",
    "    max_depth = 6,\n",
    "    gamma = 0.3,\n",
    "    subsample = 0.8,\n",
    "    colsample_bytree = 0.8,\n",
    "    objective = 'multi:softprob',\n",
    "    nthread = 4,\n",
    "    seed = 43)\n",
    "\n",
    "model.fit(X_train, y_train)"
   ]
  },
  {
   "cell_type": "code",
   "execution_count": 98,
   "metadata": {},
   "outputs": [
    {
     "name": "stdout",
     "output_type": "stream",
     "text": [
      "              precision    recall  f1-score   support\n",
      "\n",
      "           0       1.00      0.53      0.69     11442\n",
      "           1       0.00      0.00      0.00         0\n",
      "           2       0.00      0.00      0.00         0\n",
      "           3       0.00      0.00      0.00         0\n",
      "           4       0.00      0.00      0.00         0\n",
      "\n",
      "   micro avg       0.53      0.53      0.53     11442\n",
      "   macro avg       0.20      0.11      0.14     11442\n",
      "weighted avg       1.00      0.53      0.69     11442\n",
      "\n",
      "The accuracy is 0.5293\n"
     ]
    }
   ],
   "source": [
    "# Predict the outcomes of the animals in the testset and print the quality scores\n",
    "from sklearn.metrics import classification_report\n",
    "from sklearn.metrics import accuracy_score\n",
    "\n",
    "predictions = model.predict(X_test)\n",
    "targetnames = [key for key in labels_train.keys()]\n",
    "\n",
    "print(classification_report(y_test,predictions,targetnames))\n",
    "print('The accuracy is {:.4f}'.format(accuracy_score(y_test,predictions)))"
   ]
  }
 ],
 "metadata": {
  "kernelspec": {
   "display_name": "Python 3",
   "language": "python",
   "name": "python3"
  },
  "language_info": {
   "codemirror_mode": {
    "name": "ipython",
    "version": 3
   },
   "file_extension": ".py",
   "mimetype": "text/x-python",
   "name": "python",
   "nbconvert_exporter": "python",
   "pygments_lexer": "ipython3",
   "version": "3.7.3"
  },
  "varInspector": {
   "cols": {
    "lenName": 16,
    "lenType": 16,
    "lenVar": 40
   },
   "kernels_config": {
    "python": {
     "delete_cmd_postfix": "",
     "delete_cmd_prefix": "del ",
     "library": "var_list.py",
     "varRefreshCmd": "print(var_dic_list())"
    },
    "r": {
     "delete_cmd_postfix": ") ",
     "delete_cmd_prefix": "rm(",
     "library": "var_list.r",
     "varRefreshCmd": "cat(var_dic_list()) "
    }
   },
   "types_to_exclude": [
    "module",
    "function",
    "builtin_function_or_method",
    "instance",
    "_Feature"
   ],
   "window_display": false
  }
 },
 "nbformat": 4,
 "nbformat_minor": 2
}
